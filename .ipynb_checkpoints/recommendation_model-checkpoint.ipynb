{
 "cells": [
  {
   "cell_type": "markdown",
   "id": "69c284f9-40c2-407d-a03c-ab1db4b3a8e3",
   "metadata": {},
   "source": [
    "# Spotify Music Recommendation Model\n",
    "\n",
    "> Modeling recommendation relationships between spotify tracks using the Million Playlist dataset and graph theory.\n",
    "\n",
    "## Links\n",
    "\n",
    "<ul>\n",
    "    <li><a href=\"https://www.kaggle.com/datasets/himanshuwagh/spotify-million\">Million Playlist Dataset</a></li>\n",
    "</ul>"
   ]
  },
  {
   "cell_type": "code",
   "execution_count": 1,
   "id": "5e1de322-1ef8-4b1d-a49b-8b7a014baedc",
   "metadata": {},
   "outputs": [],
   "source": [
    "import numpy as np\n",
    "import os\n",
    "import json\n",
    "import rustworkx as rx\n",
    "import pickle"
   ]
  },
  {
   "cell_type": "code",
   "execution_count": 2,
   "id": "7d71100c-d08e-4e78-a059-f88ff92e6bab",
   "metadata": {},
   "outputs": [
    {
     "name": "stdout",
     "output_type": "stream",
     "text": [
      "CPU times: user 3.29 s, sys: 211 ms, total: 3.5 s\n",
      "Wall time: 3.5 s\n"
     ]
    }
   ],
   "source": [
    "%%time\n",
    "# loading data\n",
    "\n",
    "files = os.listdir('./data')\n",
    "\n",
    "uriToData = {}\n",
    "allPlaylists = np.full((11_000, 70), -1, dtype='int32')\n",
    "counter = 0\n",
    "\n",
    "for file in files:\n",
    "    if file == '.DS_Store':\n",
    "        continue\n",
    "    with open(f\"./data/{file}\") as f:\n",
    "        d = json.load(f)\n",
    "        playlists = d[\"playlists\"]\n",
    "        for i in range(len(playlists)):\n",
    "            playlist = playlists[i][\"tracks\"]\n",
    "            for j in range(len(playlist)):\n",
    "                if j >= 70:\n",
    "                    break\n",
    "                playlist[j][\"track_uri\"] = playlist[j][\"track_uri\"].split(':')[2]\n",
    "                if playlist[j][\"track_uri\"] not in uriToData:\n",
    "                    uriToData[playlist[j][\"track_uri\"]] = (len(uriToData), playlist[j][\"track_name\"])\n",
    "\n",
    "\n",
    "for file in files:\n",
    "    if file == '.DS_Store':\n",
    "        continue\n",
    "    with open(f\"./data/{file}\") as f:\n",
    "        d = json.load(f)\n",
    "        playlists = d[\"playlists\"]\n",
    "        for i in range(len(playlists)):\n",
    "            playlist = playlists[i][\"tracks\"]\n",
    "            for j in range(len(playlist)):\n",
    "                if j >= 70:\n",
    "                    break\n",
    "                allPlaylists[i + counter, j] = uriToData[playlist[j][\"track_uri\"].split(':')[2]][0]\n",
    "    counter += 1000"
   ]
  },
  {
   "cell_type": "code",
   "execution_count": 3,
   "id": "5a775bc7-39fb-4712-8c2f-677626a7076d",
   "metadata": {},
   "outputs": [
    {
     "name": "stdout",
     "output_type": "stream",
     "text": [
      "CPU times: user 2min 9s, sys: 1 s, total: 2min 10s\n",
      "Wall time: 2min 10s\n"
     ]
    }
   ],
   "source": [
    "%%time\n",
    "graph = rx.PyGraph(multigraph=False)\n",
    "\n",
    "for k, v in uriToData.items():\n",
    "    graph.add_node(k)\n",
    "\n",
    "for i in range(11_000):\n",
    "    playlist = allPlaylists[i, :]\n",
    "    for j in range(70):\n",
    "        if playlist[j] == -1:\n",
    "            break\n",
    "        for k in range(j + 1, 70):\n",
    "            if playlist[k] == -1:\n",
    "                break\n",
    "            if graph.has_edge(playlist[j], playlist[k]):\n",
    "                graph.update_edge(playlist[j], playlist[k], graph.get_edge_data(playlist[j], playlist[k]) + 1)\n",
    "            else:\n",
    "                graph.add_edge(playlist[j], playlist[k], 1)\n",
    "        "
   ]
  },
  {
   "cell_type": "markdown",
   "id": "7622a3eb-b65b-44c7-8c5d-343fd5e59ec5",
   "metadata": {},
   "source": [
    "# Creating an API for our Model\n",
    "\n",
    "Creating a few functions to easily get recommendations from our adjacency matrix and print recommendations to the console."
   ]
  },
  {
   "cell_type": "code",
   "execution_count": 4,
   "id": "1b255ba7-e7fd-47b1-b279-5969f1106d62",
   "metadata": {},
   "outputs": [],
   "source": [
    "# functions for interfacing with adjacency matrix and maps\n",
    "\n",
    "def get_uri(url):\n",
    "    parts = url.split('/')\n",
    "    return parts[len(parts) - 1]\n",
    "\n",
    "def get_recommendations(url, numRecs=5):\n",
    "    try:\n",
    "        trackIdx = uriToData[get_uri(url)][0]\n",
    "    except KeyError:\n",
    "        print(\"song not found in database\")\n",
    "        return None\n",
    "    recommendations = sorted(dict(graph.incident_edge_index_map(trackIdx)).items(), key=lambda x: x[1][2], reverse=True)\n",
    "    result = []\n",
    "    for i in range(len(recommendations)):\n",
    "        if i >= numRecs:\n",
    "            break\n",
    "        result.append((uriToData[graph[recommendations[i][1][1]]][1], recommendations[i][1][2]))\n",
    "    return result\n",
    "\n",
    "def print_recommendations(recs):\n",
    "    if recs is None:\n",
    "        print(\"no recommendations\")\n",
    "        return\n",
    "    for recSong, numAprs in recs:\n",
    "        print(f\"{recSong} - {numAprs}\")"
   ]
  },
  {
   "cell_type": "code",
   "execution_count": 7,
   "id": "0a62c19b-de97-41b4-9a6e-c8f1340bf92e",
   "metadata": {
    "scrolled": true
   },
   "outputs": [
    {
     "name": "stdout",
     "output_type": "stream",
     "text": [
      "CPU times: user 4.01 ms, sys: 1.54 ms, total: 5.55 ms\n",
      "Wall time: 4.29 ms\n"
     ]
    }
   ],
   "source": [
    "%%time\n",
    "\n",
    "# Fluorescent Adolescent by Arctic Monkeys\n",
    "recommendations = get_recommendations(\"https://open.spotify.com/track/7e8utCy2JlSB8dRHKi49xM\", numRecs=10)"
   ]
  },
  {
   "cell_type": "code",
   "execution_count": 8,
   "id": "6c0ad112-8573-46e5-9279-9c706c1a4fbc",
   "metadata": {
    "scrolled": true
   },
   "outputs": [
    {
     "name": "stdout",
     "output_type": "stream",
     "text": [
      "Do I Wanna Know? - 16\n",
      "Come a Little Closer - 14\n",
      "1901 - 10\n",
      "Why'd You Only Call Me When You're High? - 10\n",
      "Arabella - 9\n",
      "A-Punk - 9\n",
      "Take Me Out - 9\n",
      "R U Mine? - 8\n",
      "505 - 8\n",
      "Someday - 8\n"
     ]
    }
   ],
   "source": [
    "print_recommendations(recommendations)"
   ]
  },
  {
   "cell_type": "code",
   "execution_count": 14,
   "id": "563cbc41-75a6-4509-b233-7e5795d9edf4",
   "metadata": {},
   "outputs": [],
   "source": [
    "with open('./web/recommendation_graph.pkl', 'wb+') as f:\n",
    "    pickle.dump(graph, f)\n",
    "\n",
    "with open('./web/uriToData.pkl', 'wb+') as f:\n",
    "    pickle.dump(uriToData, f)\n"
   ]
  }
 ],
 "metadata": {
  "kernelspec": {
   "display_name": "Python 3 (ipykernel)",
   "language": "python",
   "name": "python3"
  },
  "language_info": {
   "codemirror_mode": {
    "name": "ipython",
    "version": 3
   },
   "file_extension": ".py",
   "mimetype": "text/x-python",
   "name": "python",
   "nbconvert_exporter": "python",
   "pygments_lexer": "ipython3",
   "version": "3.10.11"
  }
 },
 "nbformat": 4,
 "nbformat_minor": 5
}
