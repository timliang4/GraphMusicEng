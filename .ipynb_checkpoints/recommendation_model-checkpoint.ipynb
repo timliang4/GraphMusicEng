{
 "cells": [
  {
   "cell_type": "markdown",
   "id": "69c284f9-40c2-407d-a03c-ab1db4b3a8e3",
   "metadata": {},
   "source": [
    "# Spotify Music Recommendation Model\n",
    "\n",
    "> Modeling recommendation relationships between spotify tracks using the Million Playlist dataset and graph theory.\n",
    "\n",
    "## Links\n",
    "\n",
    "<ul>\n",
    "    <li><a href=\"https://www.kaggle.com/datasets/himanshuwagh/spotify-million\">Million Playlist Dataset</a></li>\n",
    "</ul>"
   ]
  },
  {
   "cell_type": "code",
   "execution_count": 1,
   "id": "5e1de322-1ef8-4b1d-a49b-8b7a014baedc",
   "metadata": {},
   "outputs": [],
   "source": [
    "import numpy as np\n",
    "import os\n",
    "import json\n",
    "import rustworkx as rx\n",
    "import pickle"
   ]
  },
  {
   "cell_type": "code",
   "execution_count": 2,
   "id": "7d71100c-d08e-4e78-a059-f88ff92e6bab",
   "metadata": {},
   "outputs": [
    {
     "name": "stdout",
     "output_type": "stream",
     "text": [
      "CPU times: user 4min 3s, sys: 20.5 s, total: 4min 23s\n",
      "Wall time: 4min 32s\n"
     ]
    }
   ],
   "source": [
    "%%time\n",
    "# loading data\n",
    "\n",
    "files = os.listdir('./data/data')\n",
    "\n",
    "uriToData = {}\n",
    "numPlaylists = 0\n",
    "\n",
    "for file in files:\n",
    "    if file == '.DS_Store':\n",
    "        continue\n",
    "    with open(f\"./data/data/{file}\") as f:\n",
    "        d = json.load(f)\n",
    "        playlists = d[\"playlists\"]\n",
    "        for i in range(len(playlists)):\n",
    "            if playlists[i][\"num_followers\"] < 5:\n",
    "                continue\n",
    "            if playlists[i][\"num_tracks\"] > 70:\n",
    "                continue\n",
    "            if playlists[i][\"num_tracks\"] / playlists[i][\"num_artists\"] > 2:\n",
    "                continue\n",
    "            playlist = playlists[i][\"tracks\"]\n",
    "            numPlaylists += 1\n",
    "            for j in range(len(playlist)):\n",
    "                playlist[j][\"track_uri\"] = playlist[j][\"track_uri\"].split(':')[2]\n",
    "                if playlist[j][\"track_uri\"] not in uriToData:\n",
    "                    uriToData[playlist[j][\"track_uri\"]] = (len(uriToData), playlist[j][\"track_name\"], playlist[j][\"artist_name\"])\n",
    "\n",
    "allPlaylists = np.full((numPlaylists, 70), -1, dtype='int32')\n",
    "counter = 0\n",
    "\n",
    "for file in files:\n",
    "    if file == '.DS_Store':\n",
    "        continue\n",
    "    with open(f\"./data/data/{file}\") as f:\n",
    "        d = json.load(f)\n",
    "        playlists = d[\"playlists\"]\n",
    "        for i in range(len(playlists)):\n",
    "            if playlists[i][\"num_followers\"] < 5:\n",
    "                continue\n",
    "            if playlists[i][\"num_tracks\"] > 70:\n",
    "                continue\n",
    "            if playlists[i][\"num_tracks\"] / playlists[i][\"num_artists\"] > 2:\n",
    "                continue\n",
    "            playlist = playlists[i][\"tracks\"]\n",
    "            for j in range(len(playlist)):\n",
    "                allPlaylists[counter, j] = uriToData[playlist[j][\"track_uri\"].split(':')[2]][0]\n",
    "            counter += 1"
   ]
  },
  {
   "cell_type": "code",
   "execution_count": 3,
   "id": "5a775bc7-39fb-4712-8c2f-677626a7076d",
   "metadata": {},
   "outputs": [
    {
     "name": "stdout",
     "output_type": "stream",
     "text": [
      "CPU times: user 56.7 s, sys: 571 ms, total: 57.3 s\n",
      "Wall time: 58.1 s\n"
     ]
    }
   ],
   "source": [
    "%%time\n",
    "graph = rx.PyGraph(multigraph=False)\n",
    "\n",
    "for k, v in uriToData.items():\n",
    "    graph.add_node(k)\n",
    "\n",
    "for i in range(numPlaylists):\n",
    "    playlist = allPlaylists[i, :]\n",
    "    for j in range(70):\n",
    "        if playlist[j] == -1:\n",
    "            break\n",
    "        for k in range(j + 1, 70):\n",
    "            if playlist[k] == -1:\n",
    "                break\n",
    "            if graph.has_edge(playlist[j], playlist[k]):\n",
    "                graph.update_edge(playlist[j], playlist[k], graph.get_edge_data(playlist[j], playlist[k]) + 1)\n",
    "            else:\n",
    "                graph.add_edge(playlist[j], playlist[k], 1)\n",
    "        "
   ]
  },
  {
   "cell_type": "markdown",
   "id": "7622a3eb-b65b-44c7-8c5d-343fd5e59ec5",
   "metadata": {},
   "source": [
    "# Creating an API for our Model\n",
    "\n",
    "Creating a few functions to easily get recommendations from our adjacency matrix and print recommendations to the console."
   ]
  },
  {
   "cell_type": "code",
   "execution_count": 5,
   "id": "1b255ba7-e7fd-47b1-b279-5969f1106d62",
   "metadata": {},
   "outputs": [],
   "source": [
    "# functions for interfacing with adjacency matrix and maps\n",
    "\n",
    "def get_uri(url):\n",
    "    parts = url.split('/')\n",
    "    return parts[len(parts) - 1]\n",
    "\n",
    "def get_recommendations(url, numRecs=5):\n",
    "    try:\n",
    "        trackIdx = uriToData[get_uri(url)][0]\n",
    "    except KeyError:\n",
    "        print(\"song not found in database\")\n",
    "        return None\n",
    "    recommendations = sorted(dict(graph.incident_edge_index_map(trackIdx)).items(), key=lambda x: x[1][2], reverse=True)\n",
    "    result = []\n",
    "    for i in range(len(recommendations)):\n",
    "        if i >= numRecs:\n",
    "            break\n",
    "        result.append((uriToData[graph[recommendations[i][1][1]]][1], recommendations[i][1][2], uriToData[graph[recommendations[i][1][1]]][2]))\n",
    "    return result\n",
    "\n",
    "def print_recommendations(recs):\n",
    "    if recs is None:\n",
    "        print(\"no recommendations\")\n",
    "        return\n",
    "    for recSong, numAprs, artist in recs:\n",
    "        print(f\"{recSong} by {artist} - {numAprs}\")"
   ]
  },
  {
   "cell_type": "code",
   "execution_count": 6,
   "id": "0a62c19b-de97-41b4-9a6e-c8f1340bf92e",
   "metadata": {
    "scrolled": true
   },
   "outputs": [
    {
     "name": "stdout",
     "output_type": "stream",
     "text": [
      "CPU times: user 1.31 ms, sys: 2.51 ms, total: 3.82 ms\n",
      "Wall time: 4.78 ms\n"
     ]
    }
   ],
   "source": [
    "%%time\n",
    "\n",
    "# Fluorescent Adolescent by Arctic Monkeys\n",
    "recommendations = get_recommendations(\"https://open.spotify.com/track/3DNRdudZ2SstnDCVKFdXxG\", numRecs=10)"
   ]
  },
  {
   "cell_type": "code",
   "execution_count": 7,
   "id": "6c0ad112-8573-46e5-9279-9c706c1a4fbc",
   "metadata": {
    "scrolled": true
   },
   "outputs": [
    {
     "name": "stdout",
     "output_type": "stream",
     "text": [
      "The Nutcracker - Ballet, Op.71, Act II: No. 13 - Waltz of the Flowers by Pyotr Ilyich Tchaikovsky - 2\n",
      "Chopin : Nocturne No.2 in E flat major Op.9 No.2 by Frédéric Chopin - 2\n",
      "On the Beautiful Blue Danube, Op. 314 by Johann Strauss II - 1\n",
      "Nocturne No.20 in C sharp minor, Op.posth. - Trans. Nathan Milstein by Frédéric Chopin - 1\n",
      "Orff: Carmina Burana: Introduction, Fortuna Imperatrix Mundi, No. 1 \"O Fortuna\" (Chorus) by Carl Orff - 1\n",
      "Tchaikovsky: Overture with Military Band, Op. 49, \"1812 Overture\" by Pyotr Ilyich Tchaikovsky - 1\n",
      "El Club De Los Poetas Muertos by Orchestra Cinema Paradise - 1\n",
      "Symphony No. 9 in D Minor, Op. 125 \"Choral\": IV. Finale: Presto - Allegro assai by Ludwig van Beethoven - 1\n",
      "Symphony No. 5 in C Minor, Op. 67: I. Allegro con brio by Ludwig van Beethoven - 1\n",
      "Liebesträum No. 2 ‘Seliger tod’, S. 541 by Franz Liszt - 1\n"
     ]
    }
   ],
   "source": [
    "print_recommendations(recommendations)"
   ]
  },
  {
   "cell_type": "code",
   "execution_count": 8,
   "id": "563cbc41-75a6-4509-b233-7e5795d9edf4",
   "metadata": {},
   "outputs": [],
   "source": [
    "with open('./web/recommendation_graph.pkl', 'wb+') as f:\n",
    "    pickle.dump(graph, f)\n",
    "\n",
    "with open('./web/uriToData.pkl', 'wb+') as f:\n",
    "    pickle.dump(uriToData, f)\n"
   ]
  },
  {
   "cell_type": "code",
   "execution_count": 8,
   "id": "1ae7983c-0d47-4c74-b30c-21922826d170",
   "metadata": {},
   "outputs": [],
   "source": [
    "import csv\n",
    "\n",
    "with open('names.csv', 'w+', newline='') as csvfile:\n",
    "    fieldnames = ['uri', 'name', 'artist', 'graph_index']\n",
    "    writer = csv.DictWriter(csvfile, fieldnames=fieldnames, quoting=csv.QUOTE_ALL)\n",
    "    writer.writeheader()\n",
    "    for k, v in uriToData.items():\n",
    "        writer.writerow({'uri': k, 'name': v[1], 'artist': v[2], 'graph_index': v[0]})"
   ]
  },
  {
   "cell_type": "code",
   "execution_count": 13,
   "id": "5838272b-f3af-48f8-9b5f-862399ece405",
   "metadata": {},
   "outputs": [],
   "source": [
    "maxArtistLen = 0\n",
    "for _, v in uriToData.items():\n",
    "    maxArtistLen = max(maxArtistLen, len(v[2]))"
   ]
  },
  {
   "cell_type": "code",
   "execution_count": 14,
   "id": "986d112b-b0a6-4ccb-9ff3-d96511a584a6",
   "metadata": {},
   "outputs": [
    {
     "data": {
      "text/plain": [
       "267"
      ]
     },
     "execution_count": 14,
     "metadata": {},
     "output_type": "execute_result"
    }
   ],
   "source": [
    "maxArtistLen"
   ]
  },
  {
   "cell_type": "code",
   "execution_count": null,
   "id": "8221901b-7339-4173-bd21-ad7842eb2201",
   "metadata": {},
   "outputs": [],
   "source": []
  }
 ],
 "metadata": {
  "kernelspec": {
   "display_name": "Python 3 (ipykernel)",
   "language": "python",
   "name": "python3"
  },
  "language_info": {
   "codemirror_mode": {
    "name": "ipython",
    "version": 3
   },
   "file_extension": ".py",
   "mimetype": "text/x-python",
   "name": "python",
   "nbconvert_exporter": "python",
   "pygments_lexer": "ipython3",
   "version": "3.10.11"
  }
 },
 "nbformat": 4,
 "nbformat_minor": 5
}
