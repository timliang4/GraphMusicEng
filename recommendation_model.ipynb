{
 "cells": [
  {
   "cell_type": "markdown",
   "id": "69c284f9-40c2-407d-a03c-ab1db4b3a8e3",
   "metadata": {},
   "source": [
    "# Spotify Music Recommendation Model\n",
    "\n",
    "> Modeling recommendation relationships between spotify tracks using the Million Playlist dataset and graph theory.\n",
    "\n",
    "## Links\n",
    "\n",
    "<ul>\n",
    "    <li><a href=\"https://www.kaggle.com/datasets/himanshuwagh/spotify-million\">Million Playlist Dataset</a></li>\n",
    "</ul>"
   ]
  },
  {
   "cell_type": "markdown",
   "id": "c276b944-8d6e-4b36-9979-090a9847b7f1",
   "metadata": {},
   "source": [
    "## Importing Modules and Loading Data\n",
    "\n",
    "This model will be using NumPy to perform fast, vectorized arithmetic on an adjacency matrix. The JSON and os libraries will also be used to read the .json files. \n",
    "\n",
    "Loading the data is straightforward. A few maps are created that map the uri (unique identifier of a spotify track) to other data such as the track's name and index in the adjacency matrix. All the tracks are stored in a NumPy 2D array, where each row is a playlist."
   ]
  },
  {
   "cell_type": "code",
   "execution_count": 8,
   "id": "5e1de322-1ef8-4b1d-a49b-8b7a014baedc",
   "metadata": {},
   "outputs": [],
   "source": [
    "import numpy as np\n",
    "import os\n",
    "import json"
   ]
  },
  {
   "cell_type": "code",
   "execution_count": 9,
   "id": "7d71100c-d08e-4e78-a059-f88ff92e6bab",
   "metadata": {},
   "outputs": [
    {
     "name": "stdout",
     "output_type": "stream",
     "text": [
      "CPU times: user 3.3 s, sys: 190 ms, total: 3.49 s\n",
      "Wall time: 3.52 s\n"
     ]
    }
   ],
   "source": [
    "%%time\n",
    "# loading data\n",
    "\n",
    "files = os.listdir('./data')\n",
    "\n",
    "uriToIdx = {}\n",
    "idxToURI = {}\n",
    "uriToName = {}\n",
    "allPlaylists = np.full((12_000, 70), -1, dtype='int32')\n",
    "counter = 0\n",
    "\n",
    "for file in files:\n",
    "    if file == '.DS_Store':\n",
    "        continue\n",
    "    with open(f\"./data/{file}\") as f:\n",
    "        d = json.load(f)\n",
    "        playlists = d[\"playlists\"]\n",
    "        for i in range(len(playlists)):\n",
    "            playlist = playlists[i][\"tracks\"]\n",
    "            for j in range(len(playlist)):\n",
    "                if playlist[j][\"track_uri\"] not in uriToIdx:\n",
    "                    uriToIdx[playlist[j][\"track_uri\"]] = len(uriToIdx)\n",
    "                    idxToURI[uriToIdx[playlist[j][\"track_uri\"]]] = playlist[j][\"track_uri\"]\n",
    "                    uriToName[playlist[j][\"track_uri\"]] = playlist[j][\"track_name\"]\n",
    "\n",
    "\n",
    "\n",
    "for file in files:\n",
    "    if file == '.DS_Store':\n",
    "        continue\n",
    "    with open(f\"./data/{file}\") as f:\n",
    "        d = json.load(f)\n",
    "        playlists = d[\"playlists\"]\n",
    "        for i in range(len(playlists)):\n",
    "            playlist = playlists[i][\"tracks\"]\n",
    "            for j in range(len(playlist)):\n",
    "                if j >= 70:\n",
    "                    break\n",
    "                allPlaylists[i + counter, j] = uriToIdx[playlist[j][\"track_uri\"]]\n",
    "    counter += 1000"
   ]
  },
  {
   "cell_type": "markdown",
   "id": "d6e01103-4852-42fc-ae1c-1580aea6359c",
   "metadata": {},
   "source": [
    "## Representing Music Recommendations as a Graph\n",
    "\n",
    "A track is \"connected\" to another track if they are in the same playlist. These connections are weighted. For example, if a track and some other track are both in 20 playlists, their connection has a strong weight. On the other hand, if a track and some other track are both in only 1 playlist, their connection is weak. Thus, the relationships between all spotify tracks can be represented as a <b>connected and undirected graph</b>, where the tracks are nodes. The neighbors of a node with the strongest connections are therefore the songs that should be recommended.\n",
    "\n",
    "Intuitively, this makes sense. If you like a song and 20 other playlists have that song with another song, then that other song should be recommended.\n",
    "\n",
    "## Design Decisions and Memory Complexity...\n",
    "\n",
    "Only 12,000 playlists will be used to populate the adjacency matrix. This is because using the adjacency matrix requires $O(n^2)$ memory complexity, where $n$ is the number of nodes (tracks). Therefore, with ~180,000 tracks, a lot of RAM will be needed. Google CoLab could be used to buy more RAM, but that costs money.\n",
    "\n",
    "Here is why the alternative graph representations weren't used:\n",
    "<ul>\n",
    "    <li><b>Sparse Adjacency Matrix</b> - the graph of tracks isn't sparse. Each track has ~350 neighbors, so creating a sparse matrix wouldn't save much memory and the time compexity costs of populating the sparse matrix would far outweight the memory benefits.</li>\n",
    "    <li><b>Adjacency List</b> - creating variable-length lists would mitigate the memory complexity, but would be outweighed by the time complexity costs, as NumPy does not support variable-length data structures. Using Python's built-in lists would take hours to days.</li>\n",
    "</ul>\n",
    "\n",
    "## Implementation\n",
    "\n",
    "The adjacency matrix is a simple $n \\times n$ NumPy array, with a structured datatype that stores the \"weight\" of each connection. Fast, vectorized NumPy operations are performed for each playlist to populate the adjacecny matrix with tracks and weights.\n",
    "\n",
    "It takes less than a minute to load ~180,000 tracks from 12,000 playlists into the adjacency matrix. Not bad NumPy!"
   ]
  },
  {
   "cell_type": "code",
   "execution_count": 10,
   "id": "e649d351-b7af-4453-b55a-2e15406dce26",
   "metadata": {},
   "outputs": [
    {
     "name": "stdout",
     "output_type": "stream",
     "text": [
      "CPU times: user 4.53 s, sys: 25.7 s, total: 30.3 s\n",
      "Wall time: 46.5 s\n"
     ]
    }
   ],
   "source": [
    "%%time\n",
    "# populate adjacency matrix\n",
    "\n",
    "n = len(uriToIdx)\n",
    "dt = [(\"track\", np.uint32), (\"weight\", np.uint32)]\n",
    "adj_matrix = np.zeros((n, n), dtype=dt)\n",
    "\n",
    "view = adj_matrix.view(dtype=np.int32)\n",
    "\n",
    "for i in range(12_000):\n",
    "    filtered = allPlaylists[i][allPlaylists[i] != -1]\n",
    "    arr = np.array(np.meshgrid(filtered, filtered)).T.reshape(-1, 2)\n",
    "    arr = arr[arr[:, 0] != arr[:, 1]]\n",
    "    view[arr[:, 0], arr[:, 1]] = 1\n",
    "    view[arr[:, 0], (arr[:, 1] * 2) + 1] += 1"
   ]
  },
  {
   "cell_type": "markdown",
   "id": "7622a3eb-b65b-44c7-8c5d-343fd5e59ec5",
   "metadata": {},
   "source": [
    "# Creating an API for our Model\n",
    "\n",
    "Creating a few functions to easily get recommendations from our adjacency matrix and print recommendations to the console."
   ]
  },
  {
   "cell_type": "code",
   "execution_count": 11,
   "id": "1b255ba7-e7fd-47b1-b279-5969f1106d62",
   "metadata": {},
   "outputs": [],
   "source": [
    "# functions for interfacing with adjacency matrix and maps\n",
    "\n",
    "def get_uri(url):\n",
    "    parts = url.split('/')\n",
    "    return parts[len(parts) - 1]\n",
    "\n",
    "def add_prefix(uri):\n",
    "    return f\"spotify:track:{uri}\"\n",
    "\n",
    "def get_recommendations(url, numRecs=5):\n",
    "    try:\n",
    "        trackIdx = uriToIdx[add_prefix(get_uri(url))]\n",
    "    except KeyError:\n",
    "        print(\"song not found in database\")\n",
    "        return None\n",
    "    result = []\n",
    "    track = adj_matrix[trackIdx, :]\n",
    "    recommendations = track[\"weight\"].argsort()[:-(numRecs + 1):-1]\n",
    "    for recTrackIdx in recommendations:\n",
    "        result.append((uriToName[idxToURI[recTrackIdx]], adj_matrix[trackIdx, recTrackIdx][\"weight\"]))\n",
    "    return result\n",
    "\n",
    "def print_recommendations(recs):\n",
    "    if recs is None:\n",
    "        print(\"no recommendations\")\n",
    "    for recSong, numAprs in recs:\n",
    "        print(f\"{recSong} - {numAprs}\")"
   ]
  },
  {
   "cell_type": "markdown",
   "id": "1ca5a63f-b5cd-42f7-ab01-ea5871a1af71",
   "metadata": {},
   "source": [
    "## Model Performance\n",
    "\n",
    "Getting track recommendations has $O(1)$ time complexity, as we are simply \"looking up\" the track in the adjacency matrix and finding the elements with the highest weights.\n",
    "\n",
    "It takes less than 10ms to retrieve 10 recommendations for a sample track.\n",
    "\n",
    "### Recommendation Quality\n",
    "\n",
    "The \"quality\" of track recommendations is subjective. The tracks recommended for this Fluorescent Adolescent by Arctic Monkeys have some clear similarities with the track. For example, \"Do I Wanna Know?\" and \"Why'd You Only Call Me When You're High?\" are also by Arctic Monkeys. Additionally, \"Come a Littler Closer\", \"1901\", \"Someday\" and \"Take Me Out\" are also of the alternative rock genre. The other tracks are related in more subtle ways."
   ]
  },
  {
   "cell_type": "code",
   "execution_count": 12,
   "id": "0a62c19b-de97-41b4-9a6e-c8f1340bf92e",
   "metadata": {
    "scrolled": true
   },
   "outputs": [
    {
     "name": "stdout",
     "output_type": "stream",
     "text": [
      "CPU times: user 2.28 ms, sys: 1.55 ms, total: 3.82 ms\n",
      "Wall time: 2.63 ms\n"
     ]
    }
   ],
   "source": [
    "%%time\n",
    "\n",
    "# Fluorescent Adolescent by Arctic Monkeys\n",
    "recommendations = get_recommendations(\"https://open.spotify.com/track/7e8utCy2JlSB8dRHKi49xM\", numRecs=10)"
   ]
  },
  {
   "cell_type": "code",
   "execution_count": 13,
   "id": "6c0ad112-8573-46e5-9279-9c706c1a4fbc",
   "metadata": {
    "scrolled": true
   },
   "outputs": [
    {
     "name": "stdout",
     "output_type": "stream",
     "text": [
      "Do I Wanna Know? - 14\n",
      "Come a Little Closer - 14\n",
      "1901 - 10\n",
      "Take Me Out - 9\n",
      "A-Punk - 9\n",
      "Tighten Up - 8\n",
      "Why'd You Only Call Me When You're High? - 8\n",
      "Someday - 8\n",
      "What You Know - 8\n",
      "Breezeblocks - 8\n"
     ]
    }
   ],
   "source": [
    "print_recommendations(recommendations)"
   ]
  },
  {
   "cell_type": "markdown",
   "id": "85a42f39-e6e0-4a75-8856-5a7072ec530d",
   "metadata": {},
   "source": [
    "## Potential Improvements\n",
    "\n",
    "While the recommendations are already pretty good, they can be further improved by preprocessing the million total playlists to find a diverse set of ideal \"recommendation\" playlists.\n",
    "\n",
    "Next, 12,000 playlists and ~180,000 songs leaves out millions of songs that are available on Spotify. The current limitation is the memory complexity of our adjacency matrix. A potential solution would be using a different graph implementation that uses less mmemory (sparse matrix, adjacency list, etc.).\n",
    "\n",
    "Finally, exporting the model is difficult because the adjacency matrix is so large (it takes up gigabytes of memory), which means makes it hard to deploy it on a web application. A potential solution would be using another graph implementation"
   ]
  }
 ],
 "metadata": {
  "kernelspec": {
   "display_name": "Python 3 (ipykernel)",
   "language": "python",
   "name": "python3"
  },
  "language_info": {
   "codemirror_mode": {
    "name": "ipython",
    "version": 3
   },
   "file_extension": ".py",
   "mimetype": "text/x-python",
   "name": "python",
   "nbconvert_exporter": "python",
   "pygments_lexer": "ipython3",
   "version": "3.10.11"
  }
 },
 "nbformat": 4,
 "nbformat_minor": 5
}
